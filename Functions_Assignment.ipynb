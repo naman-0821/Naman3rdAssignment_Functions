{
 "cells": [
  {
   "cell_type": "code",
   "execution_count": null,
   "id": "66bb4a85-cecf-415e-877c-44b1ddc77a71",
   "metadata": {},
   "outputs": [],
   "source": [
    "                      #THEORY QUESTIONS"
   ]
  },
  {
   "cell_type": "code",
   "execution_count": 1,
   "id": "b2878bd7-11b1-4fb6-a968-2ecb825274ea",
   "metadata": {},
   "outputs": [],
   "source": [
    "#1. What is the difference between a function and a method in Python?"
   ]
  },
  {
   "cell_type": "markdown",
   "id": "1499dd70-fdd8-4f06-9075-fd05a7ee1a65",
   "metadata": {},
   "source": [
    "**Functions vs. Methods in Python**\n",
    "\n",
    "While both functions and methods are used to encapsulate reusable blocks of code, they differ in their context and how they are called:\n",
    "\n",
    "**Functions:**\n",
    "\n",
    "* **Independent:** Defined outside of classes.\n",
    "* **Called directly:** Invoked by their name.\n",
    "* **No implicit object:** Don't have access to the specific object's attributes or methods.\n",
    "* **Reusable:** Can be used in various parts of your program, regardless of object-oriented context.\n",
    "\n",
    "**Example:**\n",
    "\n",
    "```python\n",
    "def greet(name):\n",
    "    print(\"Hello, \" + name + \"!\")\n",
    "\n",
    "greet(\"Alice\")\n",
    "```\n",
    "\n",
    "**Methods:**\n",
    "\n",
    "* **Bound to classes:** Defined within a class.\n",
    "* **Called on objects:** Invoked using dot notation on an object of the class.\n",
    "* **Implicit object:** Have access to the `self` parameter, which refers to the object instance the method is called on.\n",
    "* **Object-oriented:** Essential for object-oriented programming, as they define the behavior of objects.\n",
    "\n",
    "**Example:**\n",
    "\n",
    "```python\n",
    "class Person:\n",
    "    def __init__(self, name):\n",
    "        self.name = name\n",
    "\n",
    "    def greet(self):\n",
    "        print(\"Hello, \" + self.name + \"!\")\n",
    "\n",
    "person1 = Person(\"Bob\")\n",
    "person1.greet()\n",
    "```\n",
    "\n",
    "**Key Differences Summarized:**\n",
    "\n",
    "| Feature | Function | Method |\n",
    "|---|---|---|\n",
    "| Definition | Outside classes | Inside classes |\n",
    "| Calling | By name | On objects |\n",
    "| Implicit object | No | Yes (`self`) |\n",
    "| Context | General-purpose | Object-oriented |\n",
    "\n",
    "**In essence:**\n",
    "* **Functions** are standalone procedures that can be used anywhere in your code.\n",
    "* **Methods** are functions that are specifically tied to a class and operate on the data within that class's objects.\n"
   ]
  },
  {
   "cell_type": "code",
   "execution_count": 4,
   "id": "e10d85c1-a29a-4929-a2da-0707a02f89f2",
   "metadata": {},
   "outputs": [],
   "source": [
    "#2. Explain the concept of function arguments and parameters in Python."
   ]
  },
  {
   "cell_type": "markdown",
   "id": "8e6c7a4a-680f-40a0-a052-b5155268f232",
   "metadata": {},
   "source": [
    "**Think of a function as a machine that takes inputs and produces an output.**\n",
    "\n",
    "* **Parameters** are the names for the inputs the machine expects.\n",
    "* **Arguments** are the actual values you provide as input when you use the machine.\n",
    "\n",
    "**Example:**\n",
    "\n",
    "```python\n",
    "def greet(name):  # 'name' is a parameter\n",
    "    print(\"Hello, \" + name + \"!\")\n",
    "\n",
    "greet(\"Alice\")  # \"Alice\" is an argument\n",
    "```\n",
    "\n",
    "Here, the `greet` function expects a `name` as input. When we call `greet(\"Alice\")`, \"Alice\" is the argument passed to the `name` parameter.\n"
   ]
  },
  {
   "cell_type": "code",
   "execution_count": 5,
   "id": "3771eb76-06c9-4219-aa5d-ee8b3df9e805",
   "metadata": {},
   "outputs": [],
   "source": [
    "#3. What are the different ways to define and call a function in Python?"
   ]
  },
  {
   "cell_type": "markdown",
   "id": "7b9f423d-174a-4c2e-a5e8-4f5cb0efc76d",
   "metadata": {},
   "source": [
    "**Defining a Function:**\n",
    "\n",
    "1. **Use the `def` keyword:** Start with `def` followed by the function name.\n",
    "2. **Specify parameters:** Inside parentheses, list the names of the inputs the function expects.\n",
    "3. **Indentation:** Indent the code block that defines the function's behavior.\n",
    "4. **Optional `return` statement:** Use `return` to specify the output value.\n",
    "\n",
    "**Example:**\n",
    "\n",
    "```python\n",
    "def add_numbers(x, y):\n",
    "    result = x + y\n",
    "    return result\n",
    "```\n",
    "\n",
    "**Calling a Function:**\n",
    "\n",
    "1. **Write the function name:** Type the name of the function.\n",
    "2. **Provide arguments:** Inside parentheses, list the values to be passed as input.\n",
    "\n",
    "**Example:**\n",
    "\n",
    "```python\n",
    "sum = add_numbers(5, 3)\n",
    "print(sum)  # Output: 8\n",
    "```\n",
    "\n",
    "**Additional Notes:**\n",
    "\n",
    "* **Default Arguments:** You can assign default values to parameters, which are used if no argument is provided during the function call.\n",
    "* **Keyword Arguments:** You can pass arguments to a function by keyword, specifying the parameter name explicitly.\n",
    "* **Variable-Length Arguments:** You can use `*args` and `**kwargs` to accept a variable number of positional and keyword arguments, respectively.\n",
    "* **Lambda Functions:** These are small, anonymous functions defined using the `lambda` keyword.\n"
   ]
  },
  {
   "cell_type": "code",
   "execution_count": 6,
   "id": "2cdf9ed7-ba59-4f7f-8a5d-825b3535cc40",
   "metadata": {},
   "outputs": [],
   "source": [
    "#4. What is the purpose of the 'return' statement in a Python function?"
   ]
  },
  {
   "cell_type": "markdown",
   "id": "bdf03061-4601-4ec3-9509-5253d5efcd57",
   "metadata": {},
   "source": [
    "**The `return` statement is like a messenger that sends a value back from a function to the part of the code that called it.**\n",
    "\n",
    "Imagine a function as a worker who performs a task. When the worker finishes the task, they can give you a result. The `return` statement is how the worker hands you that result.\n",
    "\n",
    "**Example:**\n",
    "\n",
    "```python\n",
    "def add_numbers(x, y):\n",
    "    result = x + y\n",
    "    return result\n",
    "\n",
    "sum = add_numbers(5, 3)\n",
    "print(sum)  # Output: 8\n",
    "```\n",
    "\n",
    "In this example, the `add_numbers` function calculates the sum of `x` and `y`, and then uses `return` to send the result back. The `sum` variable then stores this returned value.\n"
   ]
  },
  {
   "cell_type": "code",
   "execution_count": 7,
   "id": "f81a978c-d14e-4534-930b-1af9d9e30fe6",
   "metadata": {},
   "outputs": [],
   "source": [
    "#5. What are iterators in Python and how do they differ from iterables?"
   ]
  },
  {
   "cell_type": "markdown",
   "id": "c97c4dd0-87fe-4ca5-baf3-631e37a83b90",
   "metadata": {},
   "source": [
    "**Iterables and Iterators: A Simple Explanation**\n",
    "\n",
    "Imagine you have a box of chocolates. The box itself is the **iterable**. It's a collection of chocolates that you can go through one by one.\n",
    "\n",
    "Now, to actually eat the chocolates one by one, you need something to guide you through the box. This something is the **iterator**. It's like a little helper that points to the next chocolate you should eat.\n",
    "\n",
    "**Key Differences:**\n",
    "\n",
    "* **Iterables:**\n",
    "    * Objects that can be iterated over.\n",
    "    * Have an `__iter__()` method that returns an iterator.\n",
    "    * Examples: lists, tuples, strings, dictionaries.\n",
    "* **Iterators:**\n",
    "    * Objects that produce the next value in a sequence.\n",
    "    * Have a `__next__()` method that returns the next item.\n",
    "    * When there are no more items, `StopIteration` exception is raised.\n",
    "\n",
    "**Example:**\n",
    "\n",
    "```python\n",
    "my_list = [1, 2, 3]  # This is an iterable\n",
    "\n",
    "my_iterator = iter(my_list)  # Create an iterator from the list\n",
    "\n",
    "print(next(my_iterator))  # Output: 1\n",
    "print(next(my_iterator))  # Output: 2\n",
    "print(next(my_iterator))  # Output: 3\n",
    "```\n",
    "\n",
    "In this example, `my_list` is an iterable. We create an iterator from it using the `iter()` function. Then, we use the `next()` function to get the next value from the iterator until there are no more.\n"
   ]
  },
  {
   "cell_type": "code",
   "execution_count": 8,
   "id": "ab206b80-903a-47ed-afc9-7baa9a6576e8",
   "metadata": {},
   "outputs": [],
   "source": [
    "#6. Explain the concept of generators in Python and how they are defined."
   ]
  },
  {
   "cell_type": "markdown",
   "id": "fd397159-7abd-4334-81a4-fc9a6cb97a59",
   "metadata": {},
   "source": [
    "**Generators: A Concise Overview**\n",
    "\n",
    "Generators are a powerful Python feature that allows you to create iterators in a more efficient and memory-friendly way. Unlike regular functions, which return a single value and then terminate, generators use the `yield` keyword to pause execution and return a value. When the generator is called again, it resumes from where it left off.\n",
    "\n",
    "**Key Benefits:**\n",
    "\n",
    "* **Lazy Evaluation:** Generators calculate values on-demand, reducing memory usage.\n",
    "* **Infinite Sequences:** They can generate infinite sequences like Fibonacci numbers or prime numbers.\n",
    "* **Data Pipelines:** They're ideal for creating data pipelines, where each step processes and yields intermediate results.\n",
    "\n",
    "**Example:**\n",
    "\n",
    "```python\n",
    "def even_numbers(n):\n",
    "    for num in range(n):\n",
    "        if num % 2 == 0:\n",
    "            yield num\n",
    "```\n",
    "\n",
    "This generator function yields even numbers up to `n`. When iterated over, it generates each even number on-demand, making it efficient for large datasets.\n"
   ]
  },
  {
   "cell_type": "code",
   "execution_count": 9,
   "id": "2ece2f7d-0ef4-4bcd-9a0f-26612a2c1f51",
   "metadata": {},
   "outputs": [],
   "source": [
    "#7. What are the advantages of using generators over regular functions?"
   ]
  },
  {
   "cell_type": "markdown",
   "id": "8a892d33-983e-4643-a310-47252ed9f59f",
   "metadata": {},
   "source": [
    "**Advantages of Generators Over Regular Functions:**\n",
    "\n",
    "1. **Memory Efficiency:**\n",
    "   * Generators produce values on-the-fly, reducing memory consumption, especially for large datasets.\n",
    "   * They avoid storing all values in memory at once, making them ideal for handling infinite sequences.\n",
    "\n",
    "2. **Efficient Iteration:**\n",
    "   * Generators can be iterated over directly using a `for` loop, simplifying code and improving readability.\n",
    "   * This eliminates the need to manually create and manage iterators.\n",
    "\n",
    "3. **Lazy Evaluation:**\n",
    "   * Generators only calculate values when they are needed, saving computational resources.\n",
    "   * This is particularly useful for complex calculations or data processing tasks.\n",
    "\n",
    "4. **Concise and Readable Code:**\n",
    "   * Generator functions often have a more concise and readable syntax, making code easier to understand and maintain.\n",
    "   * They can simplify complex iterative processes.\n",
    "\n",
    "5. **Data Pipelines:**\n",
    "   * Generators are well-suited for creating data pipelines, where data is processed in stages, with each stage yielding intermediate results.\n",
    "   * This allows for efficient data processing and transformation.\n"
   ]
  },
  {
   "cell_type": "code",
   "execution_count": 11,
   "id": "b4dd8ecb-9626-48cb-b889-a732eab17d8b",
   "metadata": {},
   "outputs": [],
   "source": [
    "#8. What is a lambda function in Python and when is it typically used?"
   ]
  },
  {
   "cell_type": "markdown",
   "id": "510bb95d-1b6f-4022-90dc-75b476cfec3b",
   "metadata": {},
   "source": [
    "**Lambda Functions: Small, Anonymous Functions**\n",
    "\n",
    "Lambda functions are small, anonymous functions in Python that are defined using the `lambda` keyword. They're often used for short, simple tasks where defining a full function using the `def` keyword would be overkill.\n",
    "\n",
    "**Basic Syntax:**\n",
    "\n",
    "```python\n",
    "lambda arguments: expression\n",
    "```\n",
    "\n",
    "**Example:**\n",
    "\n",
    "```python\n",
    "square = lambda x: x * x\n",
    "result = square(5)\n",
    "print(result)  # Output: 25\n",
    "```\n",
    "\n",
    "**Common Use Cases:**\n",
    "\n",
    "1. **Short, One-Line Functions:**\n",
    "   * When you need a simple function for a specific task and don't want to define a full function.\n",
    "2. **Higher-Order Functions:**\n",
    "   * As arguments to higher-order functions like `map`, `filter`, and `reduce`.\n",
    "   * For example, to filter a list of numbers:\n",
    "     ```python\n",
    "     numbers = [1, 2, 3, 4, 5]\n",
    "     even_numbers = list(filter(lambda x: x % 2 == 0, numbers))\n",
    "     ```\n",
    "3. **Key Functions for Sorting and Other Operations:**\n",
    "   * To customize sorting behavior or other operations based on specific criteria.\n",
    "   * For example, to sort a list of tuples by the second element:\n",
    "     ```python\n",
    "     my_list = [(1, 3), (2, 1), (4, 2)]\n",
    "     sorted_list = sorted(my_list, key=lambda x: x[1])\n",
    "     ```\n",
    "\n",
    "Remember, while lambda functions are powerful, they're best suited for simple tasks. For more complex operations, it's often better to define a regular function using the `def` keyword for better readability and maintainability.\n"
   ]
  },
  {
   "cell_type": "code",
   "execution_count": 12,
   "id": "51ece0fa-8aa8-4051-b6b4-f02ed888beae",
   "metadata": {},
   "outputs": [],
   "source": [
    "#9. Explain the purpose and usage of the map() function in Python."
   ]
  },
  {
   "cell_type": "markdown",
   "id": "495fe35c-8873-4b0f-a061-d275de12c9eb",
   "metadata": {},
   "source": [
    "**The `map()` function in Python is a powerful tool for applying a specific function to each element of an iterable (like a list, tuple, or string) and returning a new iterable with the transformed elements.**\n",
    "\n",
    "**How it works:**\n",
    "\n",
    "1. **Define a function:** This function will be applied to each element of the iterable.\n",
    "2. **Use `map()`:** Pass this function and the iterable to the `map()` function.\n",
    "3. **Iterate over the result:** The `map()` function returns an iterator, which you can convert to a list or other iterable to access the transformed elements.\n",
    "\n",
    "**Example:**\n",
    "\n",
    "```python\n",
    "numbers = [1, 2, 3, 4, 5]\n",
    "\n",
    "# Define a function to square a number\n",
    "def square(x):\n",
    "    return x * x\n",
    "\n",
    "# Apply the square function to each number using map()\n",
    "squared_numbers = list(map(square, numbers))\n",
    "\n",
    "print(squared_numbers)  # Output: [1, 4, 9, 16, 25]\n",
    "```\n",
    "\n",
    "In this example, the `square` function is applied to each element of the `numbers` list, and the results are stored in the `squared_numbers` list.\n",
    "\n",
    "**Key Points:**\n",
    "\n",
    "* **Efficiency:** The `map()` function is often more efficient than using a `for` loop to apply a function to each element.\n",
    "* **Readability:** It can make your code more concise and easier to understand.\n",
    "* **Flexibility:** You can use `map()` with any function that takes a single argument.\n",
    "\n",
    "By understanding and effectively using the `map()` function, you can streamline your Python code and perform data transformations efficiently.\n"
   ]
  },
  {
   "cell_type": "code",
   "execution_count": 13,
   "id": "89e5eefd-f47c-442e-a8fe-bd18c30b467f",
   "metadata": {},
   "outputs": [],
   "source": [
    "#10. What is the difference between `map()`, `reduce()`, and `filter() functions in Python?"
   ]
  },
  {
   "cell_type": "markdown",
   "id": "94b915bb-f7cb-4d85-8bf3-ee8b3de8fb8e",
   "metadata": {},
   "source": [
    "**map(), reduce(), and filter(): A Quick Overview**\n",
    "\n",
    "Here's a breakdown of these powerful Python functions with examples:\n",
    "\n",
    "**1. map()**\n",
    "* **Purpose:** Applies a function to each element of an iterable.\n",
    "* **Example:**\n",
    "  ```python\n",
    "  numbers = [1, 2, 3]\n",
    "  squared_numbers = list(map(lambda x: x**2, numbers))  # [1, 4, 9]\n",
    "  ```\n",
    "\n",
    "**2. reduce()**\n",
    "* **Purpose:** Cumulatively applies a function to elements of an iterable.\n",
    "* **Example:**\n",
    "  ```python\n",
    "  from functools import reduce\n",
    "  numbers = [1, 2, 3]\n",
    "  product = reduce(lambda x, y: x * y, numbers)  # 6\n",
    "  ```\n",
    "\n",
    "**3. filter()**\n",
    "* **Purpose:** Filters elements from an iterable based on a condition.\n",
    "* **Example:**\n",
    "  ```python\n",
    "  numbers = [1, 2, 3, 4, 5]\n",
    "  even_numbers = list(filter(lambda x: x % 2 == 0, numbers))  # [2, 4]\n",
    "  ```\n"
   ]
  },
  {
   "cell_type": "code",
   "execution_count": 14,
   "id": "4a5efd3f-2ad2-412c-9971-349c6a45b385",
   "metadata": {},
   "outputs": [],
   "source": [
    "                       #PRACTICAL QUESTIONS"
   ]
  },
  {
   "cell_type": "code",
   "execution_count": 18,
   "id": "f6108323-255d-471b-873f-f4f31ddb3ad7",
   "metadata": {},
   "outputs": [],
   "source": [
    "#1. Write a Python function that takes a list of numbers as input and returns the sum of all even numbers in\n",
    "#the list."
   ]
  },
  {
   "cell_type": "markdown",
   "id": "87ddbf6d-5d07-4a25-883c-0910d2077f2b",
   "metadata": {},
   "source": [
    "def sum_even(nums):\n",
    "    return sum(num for num in nums if num % 2 == 0)\n",
    "\n",
    "# Example usage:\n",
    "numbers = [1, 2, 3, 4, 5, 6]\n",
    "result = sum_even(numbers)\n",
    "print(result)  # Output: 12\n",
    "\n"
   ]
  },
  {
   "cell_type": "code",
   "execution_count": 19,
   "id": "080a4bf8-39a6-40d1-8307-ba834f2b31b9",
   "metadata": {},
   "outputs": [],
   "source": [
    "#2. Create a Python function that accepts a string and returns the reverse of that string"
   ]
  },
  {
   "cell_type": "markdown",
   "id": "8bba1291-52db-4790-a657-059a0acbdb11",
   "metadata": {},
   "source": [
    "\n",
    "def reverse_string(string):\n",
    "    return string[::-1]\n",
    "\n",
    "# Example usage:\n",
    "text = \"hello world\"\n",
    "reversed_text = reverse_string(text)\n",
    "print(reversed_text)  # Output: \"dlrow olleh\"\n"
   ]
  },
  {
   "cell_type": "code",
   "execution_count": 22,
   "id": "18fb5a2a-aa9b-4db7-9947-5040f67b0c2f",
   "metadata": {},
   "outputs": [],
   "source": [
    "#3. Implement a Python function that takes a list of integers and returns a new list containing the squares of\n",
    "#each number."
   ]
  },
  {
   "cell_type": "markdown",
   "id": "713da17b-d770-4ea1-bd78-9369b3f8bc74",
   "metadata": {},
   "source": [
    "def square_list(numbers):\n",
    "    return [num**2 for num in numbers]\n",
    "\n",
    "# Example usage:\n",
    "numbers = [1, 2, 3, 4, 5]\n",
    "squared_numbers = square_list(numbers)\n",
    "print(squared_numbers)  # Output: [1, 4, 9, 16, 25]"
   ]
  },
  {
   "cell_type": "code",
   "execution_count": 25,
   "id": "c014204d-0cfa-48a9-a067-f937fca21deb",
   "metadata": {},
   "outputs": [],
   "source": [
    "#4. Write a Python function that checks if a given number is prime or not from 1 to 200.\n",
    "\n",
    "\n"
   ]
  },
  {
   "cell_type": "markdown",
   "id": "19aef3dd-bdf2-4dec-b27d-f86a37b2cbd0",
   "metadata": {},
   "source": [
    "def is_prime(num):\n",
    "    if num <= 1:\n",
    "        return False\n",
    "    for i in range(2, num):\n",
    "        if num % i == 0:\n",
    "            return False\n",
    "    return True\n",
    "\n",
    "# Example usage:\n",
    "number = 21\n",
    "if is_prime(number):\n",
    "    print(number, \"is a prime number\")\n",
    "else:\n",
    "    print(number, \"is not a prime number\")"
   ]
  },
  {
   "cell_type": "code",
   "execution_count": 26,
   "id": "b86fc524-1882-45b4-9f23-7cb9fa6100ce",
   "metadata": {},
   "outputs": [],
   "source": [
    "#5. Create an iterator class in Python that generates the Fibonacci sequence up to a specified number of\n",
    "#terms.\n",
    "\n"
   ]
  },
  {
   "cell_type": "markdown",
   "id": "8651db99-da0f-4ea9-a6fb-0437344bc14b",
   "metadata": {},
   "source": [
    "def fibonacci_generator(n):\n",
    "    a, b = 0, 1\n",
    "    for _ in range(n):\n",
    "        yield a\n",
    "        a, b = b, a + b\n",
    "\n",
    "# Example usage:\n",
    "for num in fibonacci_generator(10):\n",
    "    print(num)"
   ]
  },
  {
   "cell_type": "code",
   "execution_count": 27,
   "id": "74d10175-b025-4aca-9133-efabd1acd915",
   "metadata": {},
   "outputs": [],
   "source": [
    "#6. Write a generator function in Python that yields the powers of 2 up to a given exponent"
   ]
  },
  {
   "cell_type": "markdown",
   "id": "dd051b16-b4c3-4647-88c1-76f67aeada4c",
   "metadata": {},
   "source": [
    "def powers_of_two(exponent):\n",
    "    power = 1\n",
    "    for _ in range(exponent + 1):\n",
    "        yield power\n",
    "        power *= 2\n",
    "\n",
    "# Example usage:\n",
    "for power in powers_of_two(5):\n",
    "    print(power)"
   ]
  },
  {
   "cell_type": "code",
   "execution_count": 28,
   "id": "068ed0c2-22da-4a83-87e4-853f6c27af0f",
   "metadata": {},
   "outputs": [],
   "source": [
    "#7. Implement a generator function that reads a file line by line and yields each line as a string."
   ]
  },
  {
   "cell_type": "markdown",
   "id": "7774bd8d-39e0-413a-bf46-aea24f1584cc",
   "metadata": {},
   "source": [
    "def read_file_lines(filename):\n",
    "    with open(filename, 'r') as file:\n",
    "        for line in file:\n",
    "            yield line.strip()\n",
    "\n",
    "# Example usage:\n",
    "for line in read_file_lines('my_file.txt'):\n",
    "    print(line)"
   ]
  },
  {
   "cell_type": "code",
   "execution_count": 29,
   "id": "e9615e5c-485b-442b-8f3f-98cda710dd03",
   "metadata": {},
   "outputs": [],
   "source": [
    "#8. Use a lambda function in Python to sort a list of tuples based on the second element of each tuple."
   ]
  },
  {
   "cell_type": "markdown",
   "id": "9e451f5d-ca38-47c7-a60c-5e15c6f09eef",
   "metadata": {},
   "source": [
    "data = [(1, 5), (3, 2), (2, 8), (4, 1)]\n",
    "\n",
    "sorted_data = sorted(data, key=lambda x: x[1])\n",
    "print(sorted_data)  # Output: [(4, 1), (3, 2), (1, 5), (2, 8)]"
   ]
  },
  {
   "cell_type": "code",
   "execution_count": 31,
   "id": "0334c446-f6fb-4dc2-813e-36ba701aef7d",
   "metadata": {},
   "outputs": [],
   "source": [
    "#9. Write a Python program that uses `map()` to convert a list of temperatures from Celsius to Fahrenheit."
   ]
  },
  {
   "cell_type": "markdown",
   "id": "c9933367-61a0-47d6-b69e-ac73cab1ca71",
   "metadata": {},
   "source": [
    "def celsius_to_fahrenheit(celsius):\n",
    "    return (celsius * 9/5) + 32\n",
    "\n",
    "temperatures_celsius = [0, 10, 20, 30]\n",
    "temperatures_fahrenheit = list(map(celsius_to_fahrenheit, temperatures_celsius))\n",
    "print(temperatures_fahrenheit)  # Output: [32.0, 50.0, 68.0, 86.0]"
   ]
  },
  {
   "cell_type": "code",
   "execution_count": 33,
   "id": "94362032-400c-4280-8014-3a939c038942",
   "metadata": {},
   "outputs": [],
   "source": [
    "#10. Create a Python program that uses `filter()` to remove all the vowels from a given string."
   ]
  },
  {
   "cell_type": "markdown",
   "id": "479d9530-8286-4539-a42a-262640cbc756",
   "metadata": {},
   "source": [
    "def remove_vowels(char):\n",
    "    vowels = 'aeiouAEIOU'\n",
    "    return char not in vowels\n",
    "\n",
    "string = \"Hello, World!\"\n",
    "filtered_string = ''.join(filter(remove_vowels, string))\n",
    "print(filtered_string)  # Output: Hll, Wrld!"
   ]
  },
  {
   "cell_type": "code",
   "execution_count": null,
   "id": "88675f39-d57d-432a-af7b-baae09e996c6",
   "metadata": {},
   "outputs": [],
   "source": [
    "              #END OF ASSIGNMENT"
   ]
  },
  {
   "cell_type": "code",
   "execution_count": null,
   "id": "19aba51a-6228-4547-9083-b22b79ba3cd1",
   "metadata": {},
   "outputs": [],
   "source": []
  }
 ],
 "metadata": {
  "kernelspec": {
   "display_name": "Python 3 (ipykernel)",
   "language": "python",
   "name": "python3"
  },
  "language_info": {
   "codemirror_mode": {
    "name": "ipython",
    "version": 3
   },
   "file_extension": ".py",
   "mimetype": "text/x-python",
   "name": "python",
   "nbconvert_exporter": "python",
   "pygments_lexer": "ipython3",
   "version": "3.12.7"
  }
 },
 "nbformat": 4,
 "nbformat_minor": 5
}
